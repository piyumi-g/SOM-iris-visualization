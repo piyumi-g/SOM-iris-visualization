{
  "nbformat": 4,
  "nbformat_minor": 0,
  "metadata": {
    "colab": {
      "name": "SOM-VisualizationOfClusters.ipynb",
      "provenance": []
    },
    "kernelspec": {
      "name": "python3",
      "display_name": "Python 3"
    }
  },
  "cells": [
    {
      "cell_type": "code",
      "metadata": {
        "id": "ZB7IDY7X_nO-",
        "colab_type": "code",
        "colab": {
          "base_uri": "https://localhost:8080/",
          "height": 68
        },
        "outputId": "b008bfa8-4edd-4e63-fb82-88faf6dcd5da"
      },
      "source": [
        "import numpy as np\n",
        "import math\n",
        "import random\n",
        "\n",
        "patterns = []\n",
        "classes = []\n",
        "\n",
        "filename = 'iris.txt'\n",
        "file = open(filename,'r')\n",
        "\n",
        "for line in file.readlines():\n",
        "    row = line.strip().split(',')\n",
        "    patterns.append(row[0:4])\n",
        "    classes.append(row[4])\n",
        "print(\"Iris Data Loaded\")\n",
        "file.close\n",
        "\n",
        "patterns = np.asarray(patterns,dtype=np.float32)\n",
        "\n",
        "sample_no = np.random.randint(0,len(patterns))\n",
        "\n",
        "print(\"Sample pattern: \" + str(patterns[int(sample_no)]))\n",
        "print(\"Class of the above pattern: \" + str(classes[int(sample_no)]))"
      ],
      "execution_count": 3,
      "outputs": [
        {
          "output_type": "stream",
          "text": [
            "Iris Data Loaded\n",
            "Sample pattern: [4.9 3.1 1.5 0.1]\n",
            "Class of the above pattern: 1\n"
          ],
          "name": "stdout"
        }
      ]
    },
    {
      "cell_type": "code",
      "metadata": {
        "id": "-penqqJVYD-w",
        "colab_type": "code",
        "colab": {
          "base_uri": "https://localhost:8080/",
          "height": 34
        },
        "outputId": "eb0e3196-a8d0-483e-e712-3fece62cbecc"
      },
      "source": [
        "#A heuristic formula for calculating no. of map units\n",
        "#source: https://stackoverflow.com/questions/19163214/kohonen-self-organizing-maps-determining-the-number-of-neurons-and-grid-size\n",
        "\n",
        "def mapunits(input_len,size='small'):\n",
        "    \n",
        "    heuristic_map_units = 5*input_len**0.54321\n",
        "     \n",
        "    if size == 'big':\n",
        "        heuristic_map_units = 4*(heuristic_map_units)\n",
        "    else:\n",
        "        heuristic_map_units = 0.25*(heuristic_map_units)\n",
        "        \n",
        "    return heuristic_map_units\n",
        "        \n",
        "        \n",
        "map_units = mapunits(len(patterns),size='big')\n",
        "print(\"Heuristically computed appropriate no. of map units: \"+str(int(map_units)))\n",
        "\n",
        "#For reference purpose only - however this function can be used to automatically calculate the SOM dimensions\n",
        "#from data length."
      ],
      "execution_count": 4,
      "outputs": [
        {
          "output_type": "stream",
          "text": [
            "Heuristically computed appropriate no. of map units: 304\n"
          ],
          "name": "stdout"
        }
      ]
    },
    {
      "cell_type": "code",
      "metadata": {
        "id": "MOSKUWJ5YXt5",
        "colab_type": "code",
        "colab": {
          "base_uri": "https://localhost:8080/",
          "height": 1000
        },
        "outputId": "da13c812-7414-4d75-f25e-6267a67db74f"
      },
      "source": [
        "import matplotlib.pyplot as plt\n",
        "%matplotlib inline\n",
        "\n",
        "#To calculate the Euclidian distance\n",
        "def Euclidian_dists(MAP,x):\n",
        "    x = x.reshape((1,1,-1))\n",
        "    Eucli_MAP = MAP - x\n",
        "    Eucli_MAP = Eucli_MAP**2\n",
        "    Eucli_MAP = np.sqrt(np.sum(Eucli_MAP,2))\n",
        "    return Eucli_MAP\n",
        "\n",
        "#From the imnput data\n",
        "input_dimensions = 4\n",
        "\n",
        "#Map dimensions\n",
        "map_width = 9\n",
        "map_height = 5\n",
        "\n",
        "MAP = np.random.uniform(size=(map_height,map_width,input_dimensions))\n",
        "prev_MAP = np.zeros((map_height,map_width,input_dimensions))\n",
        "\n",
        "#Initial radius and learning rates\n",
        "radius0 = max(map_width,map_height)/2\n",
        "learning_rate0 = 0.1\n",
        "\n",
        "coordinate_map = np.zeros([map_height,map_width,2],dtype=np.int32)\n",
        "\n",
        "for i in range(0,map_height):\n",
        "    for j in range(0,map_width):\n",
        "        coordinate_map[i][j] = [i,j]\n",
        "\n",
        "epochs = 500\n",
        "radius=radius0\n",
        "learning_rate = learning_rate0\n",
        "max_iterations = len(patterns)+1\n",
        "too_many_iterations = 10*max_iterations\n",
        "\n",
        "convergence = [1]\n",
        "\n",
        "timestep=1\n",
        "e=0.001 \n",
        "flag=0\n",
        "\n",
        "epoch=0\n",
        "while epoch < epochs:\n",
        "    \n",
        "    shuffle = np.random.randint(len(patterns), size=len(patterns))\n",
        "    for i in range(len(patterns)):\n",
        "        \n",
        "        # difference between prev_MAP and MAP\n",
        "        J = np.linalg.norm(MAP - prev_MAP)\n",
        "        #print(J)\n",
        "        # J = || euclidean distance between previous MAP and current MAP  ||\n",
        "\n",
        "        if  J <= e: #if converged (convergence criteria)\n",
        "            flag=1\n",
        "            break\n",
        "            \n",
        "        else:\n",
        "            pattern = patterns[shuffle[i]]\n",
        "            pattern_ary = np.tile(pattern, (map_height, map_width, 1))\n",
        "            Eucli_MAP = np.linalg.norm(pattern_ary - MAP, axis=2)\n",
        "            \n",
        "            # Get the best matching unit(BMU) which is the one with the smallest Euclidean distance\n",
        "            BMU = np.unravel_index(np.argmin(Eucli_MAP, axis=None), Eucli_MAP.shape)\n",
        "\n",
        "            prev_MAP = np.copy(MAP)\n",
        "             \n",
        "            for i in range(map_height):\n",
        "                for j in range(map_width):\n",
        "                    distance = np.linalg.norm([i - BMU[0], j - BMU[1]])\n",
        "                    if distance <= radius:\n",
        "                        MAP[i][j] = MAP[i][j] + learning_rate*(pattern-MAP[i][j])\n",
        "            \n",
        "            learning_rate = learning_rate0*(1-(epoch/epochs))\n",
        "            radius = radius0*math.exp(-epoch/epochs)\n",
        "            \n",
        "            timestep+=1\n",
        "    \n",
        "    if J < min(convergence):\n",
        "        print('Lower error found: %s' %str(J) + ' at epoch: %s' % str(epoch))\n",
        "        print('\\tLearning rate: ' + str(learning_rate))\n",
        "        print('\\tNeighbourhood radius: ' + str(radius))\n",
        "        MAP_final = MAP\n",
        "    convergence.append(J)\n",
        "    \n",
        "    if flag==1:\n",
        "        break\n",
        "    epoch+=1"
      ],
      "execution_count": 6,
      "outputs": [
        {
          "output_type": "stream",
          "text": [
            "Lower error found: 0.8750043773372603 at epoch: 0\n",
            "\tLearning rate: 0.1\n",
            "\tNeighbourhood radius: 4.5\n",
            "Lower error found: 0.4543339692268911 at epoch: 1\n",
            "\tLearning rate: 0.0998\n",
            "\tNeighbourhood radius: 4.491008994002999\n",
            "Lower error found: 0.31588138108497354 at epoch: 4\n",
            "\tLearning rate: 0.09920000000000001\n",
            "\tNeighbourhood radius: 4.464143616766773\n",
            "Lower error found: 0.27934633967451455 at epoch: 20\n",
            "\tLearning rate: 0.096\n",
            "\tNeighbourhood radius: 4.323552476185454\n",
            "Lower error found: 0.22231648955432617 at epoch: 24\n",
            "\tLearning rate: 0.0952\n",
            "\tNeighbourhood radius: 4.289102041848771\n",
            "Lower error found: 0.19733856693688479 at epoch: 47\n",
            "\tLearning rate: 0.09060000000000001\n",
            "\tNeighbourhood radius: 4.096272430083451\n",
            "Lower error found: 0.17299089807076365 at epoch: 107\n",
            "\tLearning rate: 0.0786\n",
            "\tNeighbourhood radius: 3.6330677326020666\n",
            "Lower error found: 0.15648277320586107 at epoch: 109\n",
            "\tLearning rate: 0.0782\n",
            "\tNeighbourhood radius: 3.618564487499518\n",
            "Lower error found: 0.14785582304164352 at epoch: 130\n",
            "\tLearning rate: 0.074\n",
            "\tNeighbourhood radius: 3.4697321361160482\n",
            "Lower error found: 0.1280389449022481 at epoch: 165\n",
            "\tLearning rate: 0.06699999999999999\n",
            "\tNeighbourhood radius: 3.2351568004436677\n",
            "Lower error found: 0.11306290563530379 at epoch: 208\n",
            "\tLearning rate: 0.05840000000000001\n",
            "\tNeighbourhood radius: 2.968561217179751\n",
            "Lower error found: 0.09025088510240878 at epoch: 215\n",
            "\tLearning rate: 0.05700000000000001\n",
            "\tNeighbourhood radius: 2.9272909262549245\n",
            "Lower error found: 0.07017499735620047 at epoch: 235\n",
            "\tLearning rate: 0.053000000000000005\n",
            "\tNeighbourhood radius: 2.8125102072721537\n",
            "Lower error found: 0.06725280998601645 at epoch: 291\n",
            "\tLearning rate: 0.041800000000000004\n",
            "\tNeighbourhood radius: 2.5145085999728085\n",
            "Lower error found: 0.04993456008880442 at epoch: 301\n",
            "\tLearning rate: 0.0398\n",
            "\tNeighbourhood radius: 2.4647179937117736\n",
            "Lower error found: 0.04763544929008788 at epoch: 317\n",
            "\tLearning rate: 0.0366\n",
            "\tNeighbourhood radius: 2.387095599878887\n",
            "Lower error found: 0.04552735505249561 at epoch: 351\n",
            "\tLearning rate: 0.029800000000000007\n",
            "\tNeighbourhood radius: 2.2301690656169315\n",
            "Lower error found: 0.03797523556268722 at epoch: 353\n",
            "\tLearning rate: 0.029400000000000006\n",
            "\tNeighbourhood radius: 2.221266206942288\n",
            "Lower error found: 0.0352260326731537 at epoch: 355\n",
            "\tLearning rate: 0.029000000000000005\n",
            "\tNeighbourhood radius: 2.212398888574343\n",
            "Lower error found: 0.02922196796940867 at epoch: 366\n",
            "\tLearning rate: 0.026800000000000004\n",
            "\tNeighbourhood radius: 2.1642576087860013\n",
            "Lower error found: 0.02478294618555776 at epoch: 377\n",
            "\tLearning rate: 0.0246\n",
            "\tNeighbourhood radius: 2.1171638719301873\n",
            "Lower error found: 0.0046945573070026085 at epoch: 415\n",
            "\tLearning rate: 0.017000000000000005\n",
            "\tNeighbourhood radius: 1.9622217884469102\n",
            "Lower error found: 0.004250455259682595 at epoch: 471\n",
            "\tLearning rate: 0.005800000000000006\n",
            "\tNeighbourhood radius: 1.7543131219030408\n",
            "Lower error found: 0.0037247662830600108 at epoch: 472\n",
            "\tLearning rate: 0.005600000000000005\n",
            "\tNeighbourhood radius: 1.7508080019475636\n",
            "Lower error found: 0.002858747540796049 at epoch: 477\n",
            "\tLearning rate: 0.004600000000000004\n",
            "\tNeighbourhood radius: 1.7333871712548985\n",
            "Lower error found: 0.0023294363326415196 at epoch: 484\n",
            "\tLearning rate: 0.003200000000000003\n",
            "\tNeighbourhood radius: 1.7092888328312044\n",
            "Lower error found: 0.002152700085243154 at epoch: 491\n",
            "\tLearning rate: 0.0018000000000000017\n",
            "\tNeighbourhood radius: 1.685525520490784\n",
            "Lower error found: 0.0009298171577895027 at epoch: 493\n",
            "\tLearning rate: 0.0014000000000000013\n",
            "\tNeighbourhood radius: 1.6787968846520105\n"
          ],
          "name": "stdout"
        }
      ]
    },
    {
      "cell_type": "code",
      "metadata": {
        "id": "iwdvhg0WnAaC",
        "colab_type": "code",
        "colab": {
          "base_uri": "https://localhost:8080/",
          "height": 313
        },
        "outputId": "1cf149ba-0c5a-409f-9f9f-ca1e63dcea47"
      },
      "source": [
        "# Show a plot of the error at each epoch to show convergence, but this is guaranteed in SOM\n",
        "# due to the learning rate and neighbourhood decay\n",
        "plt.plot(convergence)\n",
        "plt.ylabel('error')\n",
        "plt.xlabel('epoch')\n",
        "plt.grid(True)\n",
        "plt.yscale('log')\n",
        "plt.show()\n",
        "print('Number of timesteps: ' + str(timestep))\n",
        "print('Final error: ' + str(J))"
      ],
      "execution_count": 7,
      "outputs": [
        {
          "output_type": "display_data",
          "data": {
            "image/png": "[encoded data removed]",
            "text/plain": [
              "<Figure size 432x288 with 1 Axes>"
            ]
          },
          "metadata": {
            "tags": [],
            "needs_background": "light"
          }
        },
        {
          "output_type": "stream",
          "text": [
            "Number of timesteps: 73997\n",
            "Final error: 0.0009298171577895027\n"
          ],
          "name": "stdout"
        }
      ]
    },
    {
      "cell_type": "code",
      "metadata": {
        "id": "aH8PAw1VnN-n",
        "colab_type": "code",
        "colab": {
          "base_uri": "https://localhost:8080/",
          "height": 302
        },
        "outputId": "ab027d74-e7b2-4e95-db55-19092e128333"
      },
      "source": [
        "from PIL import Image\n",
        "\n",
        "\n",
        "BMU = np.zeros([2],dtype=np.int32)\n",
        "result_map = np.zeros([map_height,map_width,3],dtype=np.float32)\n",
        "\n",
        "i=0\n",
        "for pattern in patterns:\n",
        "    \n",
        "    pattern_ary = np.tile(pattern, (map_height, map_width, 1))\n",
        "    Eucli_MAP = np.linalg.norm(pattern_ary - MAP_final, axis=2)\n",
        "\n",
        "    # Get the best matching unit(BMU) which is the one with the smallest Euclidean distance\n",
        "    BMU = np.unravel_index(np.argmin(Eucli_MAP, axis=None), Eucli_MAP.shape)\n",
        "    \n",
        "    x = BMU[0]\n",
        "    y = BMU[1]\n",
        "    \n",
        "    if classes[i] == '1':\n",
        "        if result_map[x][y][0] <= 0.5:\n",
        "            result_map[x][y] += np.asarray([0.5,0,0])\n",
        "    elif classes[i] == '3':\n",
        "        if result_map[x][y][1] <= 0.5:\n",
        "            result_map[x][y] += np.asarray([0,0.5,0])\n",
        "    elif classes[i] == '2':\n",
        "        if result_map[x][y][2] <= 0.5:\n",
        "            result_map[x][y] += np.asarray([0,0,0.5])\n",
        "    i+=1\n",
        "result_map = np.flip(result_map,0)\n",
        "    \n",
        "#print result_map\n",
        "\n",
        "print(\"Red = 1\")\n",
        "print(\"Blue = 3\")\n",
        "print(\"Green = 2\")\n",
        "\n",
        "plt.imshow(result_map, interpolation='nearest')"
      ],
      "execution_count": 13,
      "outputs": [
        {
          "output_type": "stream",
          "text": [
            "Red = 1\n",
            "Blue = 3\n",
            "Green = 2\n"
          ],
          "name": "stdout"
        },
        {
          "output_type": "execute_result",
          "data": {
            "text/plain": [
              "<matplotlib.image.AxesImage at 0x7f565e81d710>"
            ]
          },
          "metadata": {
            "tags": []
          },
          "execution_count": 13
        },
        {
          "output_type": "display_data",
          "data": {
            "image/png": "[encoded data removed]",
            "text/plain": [
              "<Figure size 432x288 with 1 Axes>"
            ]
          },
          "metadata": {
            "tags": [],
            "needs_background": "light"
          }
        }
      ]
    }
  ]
}